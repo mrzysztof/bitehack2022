{
 "cells": [
  {
   "cell_type": "markdown",
   "id": "b771033d",
   "metadata": {},
   "source": [
    "# Just for testing, but we use language model in our plug-in"
   ]
  },
  {
   "cell_type": "code",
   "execution_count": 3,
   "id": "6a457454",
   "metadata": {},
   "outputs": [],
   "source": [
    "from transformers import pipeline\n",
    "\n",
    "fill_mask = pipeline(\n",
    "    \"fill-mask\",\n",
    "    model=\"roberta-base\",\n",
    "    tokenizer=\"roberta-base\"\n",
    ")"
   ]
  },
  {
   "cell_type": "code",
   "execution_count": 4,
   "id": "f0a6c6ad",
   "metadata": {},
   "outputs": [
    {
     "data": {
      "text/plain": [
       "[{'sequence': 'I know how it feels',\n",
       "  'score': 0.4542973041534424,\n",
       "  'token': 2653,\n",
       "  'token_str': ' feels'},\n",
       " {'sequence': 'I know how it ends',\n",
       "  'score': 0.1795981377363205,\n",
       "  'token': 3587,\n",
       "  'token_str': ' ends'},\n",
       " {'sequence': 'I know how it works',\n",
       "  'score': 0.15156427025794983,\n",
       "  'token': 1364,\n",
       "  'token_str': ' works'},\n",
       " {'sequence': 'I know how it goes',\n",
       "  'score': 0.114386647939682,\n",
       "  'token': 1411,\n",
       "  'token_str': ' goes'},\n",
       " {'sequence': 'I know how it is',\n",
       "  'score': 0.0357246957719326,\n",
       "  'token': 16,\n",
       "  'token_str': ' is'}]"
      ]
     },
     "execution_count": 4,
     "metadata": {},
     "output_type": "execute_result"
    }
   ],
   "source": [
    "fill_mask(\"I know how it <mask>\")"
   ]
  }
 ],
 "metadata": {
  "kernelspec": {
   "display_name": "Python 3 (ipykernel)",
   "language": "python",
   "name": "python3"
  },
  "language_info": {
   "codemirror_mode": {
    "name": "ipython",
    "version": 3
   },
   "file_extension": ".py",
   "mimetype": "text/x-python",
   "name": "python",
   "nbconvert_exporter": "python",
   "pygments_lexer": "ipython3",
   "version": "3.8.11"
  }
 },
 "nbformat": 4,
 "nbformat_minor": 5
}
